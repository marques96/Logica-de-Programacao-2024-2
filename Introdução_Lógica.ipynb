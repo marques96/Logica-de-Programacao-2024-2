{
  "nbformat": 4,
  "nbformat_minor": 0,
  "metadata": {
    "colab": {
      "provenance": [],
      "authorship_tag": "ABX9TyO+iF3aAO1u0csFDwphA5Ze",
      "include_colab_link": true
    },
    "kernelspec": {
      "name": "python3",
      "display_name": "Python 3"
    },
    "language_info": {
      "name": "python"
    }
  },
  "cells": [
    {
      "cell_type": "markdown",
      "metadata": {
        "id": "view-in-github",
        "colab_type": "text"
      },
      "source": [
        "<a href=\"https://colab.research.google.com/github/marques96/Logica-de-Programacao-2024-2/blob/main/Introdu%C3%A7%C3%A3o_L%C3%B3gica.ipynb\" target=\"_parent\"><img src=\"https://colab.research.google.com/assets/colab-badge.svg\" alt=\"Open In Colab\"/></a>"
      ]
    },
    {
      "cell_type": "code",
      "execution_count": null,
      "metadata": {
        "colab": {
          "base_uri": "https://localhost:8080/"
        },
        "id": "oMfrbNXQk2RI",
        "outputId": "39a71c58-4415-4e9b-ebb1-09cc01e4e6c6"
      },
      "outputs": [
        {
          "output_type": "stream",
          "name": "stdout",
          "text": [
            "O nome é: Matheus, sua idade é 25, sua altura é 1.72\n"
          ]
        }
      ],
      "source": [
        "nome = \"Matheus\"\n",
        "idade = 25\n",
        "altura = 1.72\n",
        "\n",
        "print(f\"O nome é: {nome}, sua idade é {idade}, sua altura é {altura}\")"
      ]
    },
    {
      "cell_type": "code",
      "source": [
        "print(type(idade)) #Exibe a class 'int'\n",
        "print(type(nome))\n",
        "print(type(altura))"
      ],
      "metadata": {
        "colab": {
          "base_uri": "https://localhost:8080/"
        },
        "id": "iHUd3u8zp8-2",
        "outputId": "8a5ee64b-8af1-4cb7-de57-1203057518fa"
      },
      "execution_count": null,
      "outputs": [
        {
          "output_type": "stream",
          "name": "stdout",
          "text": [
            "<class 'int'>\n",
            "<class 'str'>\n",
            "<class 'float'>\n"
          ]
        }
      ]
    },
    {
      "cell_type": "code",
      "source": [
        "x = int(\"42\")\n",
        "y = float(\"3.14\")\n",
        "z = str(42)\n",
        "print(x, y, z)"
      ],
      "metadata": {
        "colab": {
          "base_uri": "https://localhost:8080/"
        },
        "id": "Inb0ZVovnNxJ",
        "outputId": "8bda0149-74c8-499d-f20e-3997255dfa20"
      },
      "execution_count": null,
      "outputs": [
        {
          "output_type": "stream",
          "name": "stdout",
          "text": [
            "42 3.14 42\n"
          ]
        }
      ]
    },
    {
      "cell_type": "code",
      "source": [
        "nome = input(\"Digite seu nome: \")\n",
        "idade = int(input(\"Digite sua idade: \"))\n",
        "print(f\"Olá, {nome}! Você tem {idade} anos.\")"
      ],
      "metadata": {
        "colab": {
          "base_uri": "https://localhost:8080/"
        },
        "id": "m3AdAJmbsVQl",
        "outputId": "5643d8f8-3b96-4b10-9bf5-d97f67b20a3f"
      },
      "execution_count": null,
      "outputs": [
        {
          "output_type": "stream",
          "name": "stdout",
          "text": [
            "Digite seu nome: Matheus\n",
            "Digite sua idade: 27\n",
            "Olá, Matheus! Você tem 27 anos.\n"
          ]
        }
      ]
    },
    {
      "cell_type": "code",
      "source": [
        "resultado1 = 10 + 2 * 3 #Saída: 16 #Multiplicação em primeiro\n",
        "resultado2 = (10 + 2) * 3 #Saída 36 (parênteses alteram a ordem)\n",
        "print(resultado1)\n",
        "print(resultado2)"
      ],
      "metadata": {
        "colab": {
          "base_uri": "https://localhost:8080/"
        },
        "id": "Kqcorknu0CpQ",
        "outputId": "6778f4c3-7fb9-43c8-f976-76e87e34b2b2"
      },
      "execution_count": null,
      "outputs": [
        {
          "output_type": "stream",
          "name": "stdout",
          "text": [
            "16\n",
            "36\n"
          ]
        }
      ]
    },
    {
      "cell_type": "code",
      "source": [
        "a = 10\n",
        "b = 0\n",
        "resultado = a / b #Gera um erro ZeroDivisionError"
      ],
      "metadata": {
        "colab": {
          "base_uri": "https://localhost:8080/",
          "height": 176
        },
        "id": "zj1ldZkg0cMo",
        "outputId": "de864257-cccf-46e2-b7fd-87ab4f588eef"
      },
      "execution_count": null,
      "outputs": [
        {
          "output_type": "error",
          "ename": "ZeroDivisionError",
          "evalue": "division by zero",
          "traceback": [
            "\u001b[0;31m---------------------------------------------------------------------------\u001b[0m",
            "\u001b[0;31mZeroDivisionError\u001b[0m                         Traceback (most recent call last)",
            "\u001b[0;32m<ipython-input-17-b7a87dac12dc>\u001b[0m in \u001b[0;36m<cell line: 3>\u001b[0;34m()\u001b[0m\n\u001b[1;32m      1\u001b[0m \u001b[0ma\u001b[0m \u001b[0;34m=\u001b[0m \u001b[0;36m10\u001b[0m\u001b[0;34m\u001b[0m\u001b[0;34m\u001b[0m\u001b[0m\n\u001b[1;32m      2\u001b[0m \u001b[0mb\u001b[0m \u001b[0;34m=\u001b[0m \u001b[0;36m0\u001b[0m\u001b[0;34m\u001b[0m\u001b[0;34m\u001b[0m\u001b[0m\n\u001b[0;32m----> 3\u001b[0;31m \u001b[0mresultado\u001b[0m \u001b[0;34m=\u001b[0m \u001b[0ma\u001b[0m \u001b[0;34m/\u001b[0m \u001b[0mb\u001b[0m \u001b[0;31m#Gera um erro ZeroDivisionError\u001b[0m\u001b[0;34m\u001b[0m\u001b[0;34m\u001b[0m\u001b[0m\n\u001b[0m",
            "\u001b[0;31mZeroDivisionError\u001b[0m: division by zero"
          ]
        }
      ]
    },
    {
      "cell_type": "code",
      "source": [
        "idade = int(input(\"Digite sua idade: \"))\n",
        "meses = idade * 12\n",
        "print(f\"Você tem {meses} meses\")"
      ],
      "metadata": {
        "colab": {
          "base_uri": "https://localhost:8080/"
        },
        "id": "U_yXwFww0qIm",
        "outputId": "4d6e4382-70a4-41c2-d86c-69a1e53418de"
      },
      "execution_count": null,
      "outputs": [
        {
          "output_type": "stream",
          "name": "stdout",
          "text": [
            "Digite sua idade: 27\n",
            "Você tem 324 meses\n"
          ]
        }
      ]
    },
    {
      "cell_type": "code",
      "source": [
        "numero1 = int(input(\"Digite o primeiro valor: \"))\n",
        "numero2 = int(input(\"Digite o segundo valor: \"))\n",
        "soma = numero1 + numero2\n",
        "subtracao = numero1 - numero2\n",
        "multiplicacao = numero1 * numero2\n",
        "divisao = numero1 / numero2\n",
        "\n",
        "print(f\" 2Soma: {soma}\\n Subtração: {subtracao}\\n Multiplicação: {multiplicacao}\\n Divisão: {divisao}\")"
      ],
      "metadata": {
        "colab": {
          "base_uri": "https://localhost:8080/"
        },
        "id": "jPjf7YsG2ULd",
        "outputId": "5fe86db8-0559-4cae-f9e8-42186319b1d1"
      },
      "execution_count": null,
      "outputs": [
        {
          "output_type": "stream",
          "name": "stdout",
          "text": [
            "Digite o primeiro valor: 25\n",
            "Digite o segundo valor: 5\n",
            " Soma: 30\n",
            " Subtração: 20\n",
            " Multiplicação: 125\n",
            " Divisão: 5.0\n"
          ]
        }
      ]
    },
    {
      "cell_type": "code",
      "source": [
        "produto = float(input(\"Digite o preco do produto: \"))\n",
        "desconto = float(input(\"Digite o percentual de desconto: \"))\n",
        "valor = produto * (1 - (desconto)/100)\n",
        "print(f\"O valor com desconto é: {valor}\")"
      ],
      "metadata": {
        "colab": {
          "base_uri": "https://localhost:8080/"
        },
        "id": "Y6Yj14z83VBt",
        "outputId": "e8857fb8-f240-49bb-f532-c31aebb17456"
      },
      "execution_count": null,
      "outputs": [
        {
          "output_type": "stream",
          "name": "stdout",
          "text": [
            "Digite o preco do produto: 5\n",
            "Digite o percentual de desconto: 5\n",
            "O valor com desconto é: 4.75\n"
          ]
        }
      ]
    },
    {
      "cell_type": "code",
      "source": [
        "base = int(input(\"Informe a base do triângulo: \"))\n",
        "altura = int(input(\"Informe a altura do triângulo: \"))\n",
        "area = (base * altura)/2\n",
        "print(f\"A área do triâgulo é: {area}\")"
      ],
      "metadata": {
        "colab": {
          "base_uri": "https://localhost:8080/"
        },
        "id": "lWKQHm5W4ikc",
        "outputId": "76444e25-80e9-415d-a26d-020cf514015d"
      },
      "execution_count": null,
      "outputs": [
        {
          "output_type": "stream",
          "name": "stdout",
          "text": [
            "Informe a base do triângulo: 4\n",
            "Informe a altura do triângulo: 8\n",
            "A área do triâgulo é: 16.0\n"
          ]
        }
      ]
    },
    {
      "cell_type": "code",
      "source": [
        "#Questao06\n",
        "nome = input(\"Digite seu nome: \")\n",
        "idade = int(input(\"Digite sua idade: \"))\n",
        "\n",
        "if(idade >= 18 ):\n",
        "    print(f\"{nome} é maior de idade\")\n",
        "else:\n",
        "    print(f\"{nome} é menor de idade\")\n"
      ],
      "metadata": {
        "colab": {
          "base_uri": "https://localhost:8080/"
        },
        "id": "QAQtTs3d5CMD",
        "outputId": "24638bb0-7a76-431e-dc2e-ec7bce8de33f"
      },
      "execution_count": 24,
      "outputs": [
        {
          "output_type": "stream",
          "name": "stdout",
          "text": [
            "Digite seu nome: Matheus\n",
            "Digite sua idade: 27\n",
            "Matheus é maior de idade\n"
          ]
        }
      ]
    },
    {
      "cell_type": "code",
      "source": [
        "#Questao07\n",
        "celsius = int(input(\"Informe a temperatura em Celsius: \"))\n",
        "F = (celsius * 9/5) + 32\n",
        "\n",
        "print(f\"A temperatura em Fahrenheit é: {F}\")"
      ],
      "metadata": {
        "colab": {
          "base_uri": "https://localhost:8080/"
        },
        "id": "iIgCkVsE6he7",
        "outputId": "4a32edb3-bce4-4d59-a2fc-4b6c9e2025a2"
      },
      "execution_count": null,
      "outputs": [
        {
          "output_type": "stream",
          "name": "stdout",
          "text": [
            "Informe a temperatura em Celsius36\n",
            "A temperatura em Fahrenheit é: 96.8\n"
          ]
        }
      ]
    },
    {
      "cell_type": "code",
      "source": [
        "#Questao08\n",
        "numero = int(input(\"Digite um número: \"))\n",
        "antecessor = numero - 1\n",
        "sucessor = numero + 1\n",
        "\n",
        "print(f\"Número: {numero}\")\n",
        "print(f\"Antecessor: {antecessor}\")\n",
        "print(f\"Sucessor: {sucessor}\")"
      ],
      "metadata": {
        "colab": {
          "base_uri": "https://localhost:8080/"
        },
        "id": "WPG_v5kc7Q0R",
        "outputId": "68ec417e-7b1f-411d-d02c-f64c31b2d8e6"
      },
      "execution_count": null,
      "outputs": [
        {
          "output_type": "stream",
          "name": "stdout",
          "text": [
            "Digite um número: 5\n",
            "Número: 5\n",
            "Antecessor: 4\n",
            "Sucessor: 6\n"
          ]
        }
      ]
    },
    {
      "cell_type": "code",
      "source": [
        "#Questao09\n",
        "texto = input(\"Digite um texto: \")\n",
        "print(f\"O tamanho de {texto} é {len(texto)} caracteres\")"
      ],
      "metadata": {
        "colab": {
          "base_uri": "https://localhost:8080/"
        },
        "id": "QWDMQirG77Hy",
        "outputId": "c2461dc2-fcb1-44e9-cd25-3d4fdf509148"
      },
      "execution_count": 8,
      "outputs": [
        {
          "output_type": "stream",
          "name": "stdout",
          "text": [
            "Digite um texto: Palindromo\n",
            "O tamanho de Palindromo é 10 caracteres\n"
          ]
        }
      ]
    },
    {
      "cell_type": "code",
      "source": [
        "#Questao10\n",
        "nome = input(\"Digite seu nome: \")\n",
        "idade = int(input(\"Informe sua idade: \"))\n",
        "salario = float(input(\"Informe seu salário: R$\"))\n",
        "\n",
        "print(f\"Nome: {nome}\")\n",
        "print(f\"Idade: {idade}\")\n",
        "print(f\"Salário: R${salario}\")\n"
      ],
      "metadata": {
        "colab": {
          "base_uri": "https://localhost:8080/"
        },
        "id": "ublv7vx4Ki3s",
        "outputId": "9a4f0ab3-e043-4b0a-d03d-3cf48efa0132"
      },
      "execution_count": 9,
      "outputs": [
        {
          "output_type": "stream",
          "name": "stdout",
          "text": [
            "Digite seu nome: Matheus\n",
            "Informe sua idade: 27\n",
            "Informe seu salário: R$5000\n",
            "Nome: Matheus\n",
            "Idade: 27\n",
            "Salário: R$5000.0\n"
          ]
        }
      ]
    },
    {
      "cell_type": "code",
      "source": [
        "#Questao11\n",
        "numero1 = int(input(\"Digite o primeiro valor: \"))\n",
        "numero2 = int(input(\"Digite o segundo valor: \"))\n",
        "soma = numero1 + numero2\n",
        "subtracao = numero1 - numero2\n",
        "multiplicacao = numero1 * numero2\n",
        "divisao = numero1 / numero2\n",
        "\n",
        "print(f\"Soma: {soma}\")\n",
        "print(f\"Subtração: {subtracao}\")\n",
        "print(f\"Multiplicação: {multiplicacao}\")\n",
        "print(f\"Divisão: {divisao}\")"
      ],
      "metadata": {
        "colab": {
          "base_uri": "https://localhost:8080/"
        },
        "id": "vFd02waVNX_y",
        "outputId": "da0b287e-2e9f-483f-99d1-aa702117db72"
      },
      "execution_count": 14,
      "outputs": [
        {
          "output_type": "stream",
          "name": "stdout",
          "text": [
            "Digite o primeiro valor: 5\n",
            "Digite o segundo valor: 5\n",
            "Soma: 10\n",
            "Subtração: 0\n",
            "Multiplicação: 25\n",
            "Divisão: 1.0\n"
          ]
        }
      ]
    },
    {
      "cell_type": "code",
      "source": [
        "#Questao12\n",
        "nota1 = int(input(\"Informe a nota da av1: \"))\n",
        "nota2 = int(input(\"Informe a nota da av2: \"))\n",
        "nota3 = int(input(\"Informe a nota da av3: \"))\n",
        "\n",
        "media = (nota1 + nota2 + nota3)/3\n",
        "\n",
        "if (media >=7):\n",
        "  print(f\"A média do aluno é {media}, está aprovado!\")\n",
        "else:\n",
        "  print(f\"A média do aluno é {media}, está reprovado!\")"
      ],
      "metadata": {
        "colab": {
          "base_uri": "https://localhost:8080/"
        },
        "id": "A-o5OPT0N7cp",
        "outputId": "5247ddec-5e2a-44ed-ee21-494ea26411bd"
      },
      "execution_count": 17,
      "outputs": [
        {
          "output_type": "stream",
          "name": "stdout",
          "text": [
            "Informe a nota da av1: 7\n",
            "Informe a nota da av2: 8\n",
            "Informe a nota da av3: 7\n",
            "A média do aluno é 7.333333333333333, está aprovado!\n"
          ]
        }
      ]
    },
    {
      "cell_type": "code",
      "source": [
        "#Questao13\n",
        "numero1 = int(input(\"Informe o primeiro número: \"))\n",
        "numero2 = int(input(\"Informe o segundo número: \"))\n",
        "\n",
        "quociente = numero1 // numero2\n",
        "resto_divisao = numero1 % numero2\n",
        "\n",
        "print(f\"O quociente da divisão entre {numero1} e {numero2} é: {quociente}\")\n",
        "print(f\"O resto da divisão entre {numero1} e {numero2} é: {resto_divisao}\")"
      ],
      "metadata": {
        "colab": {
          "base_uri": "https://localhost:8080/"
        },
        "id": "mVZRJD3GOyOo",
        "outputId": "2af2ea8f-4aae-4321-b417-5e1a06ca148a"
      },
      "execution_count": 19,
      "outputs": [
        {
          "output_type": "stream",
          "name": "stdout",
          "text": [
            "Informe o primeiro número: 10\n",
            "Informe o segundo número: 8\n",
            "O quociente da divisão entre 10 e 8 é: 1\n",
            "O resto da divisão entre 10 e 8 é: 2\n"
          ]
        }
      ]
    },
    {
      "cell_type": "code",
      "source": [
        "#Questao 14\n",
        "metros = float(input(\"Defina quantos metros você quer converter: \"))\n",
        "centimetros = metros * 100\n",
        "milimetros = metros * 1000\n",
        "\n",
        "print(f\"{metros} metros é equivalente a {centimetros} cm\")\n",
        "print(f\"{metros} metros é equivalente a {milimetros} mm\")"
      ],
      "metadata": {
        "colab": {
          "base_uri": "https://localhost:8080/"
        },
        "id": "InFPq-FaPwiY",
        "outputId": "278acb20-f27c-469b-f16b-bfc0c7d647bc"
      },
      "execution_count": 22,
      "outputs": [
        {
          "output_type": "stream",
          "name": "stdout",
          "text": [
            "Defina quantos metros você quer converter: 240\n",
            "240.0 metros é equivalente a 24000.0 cm\n",
            "240.0 metros é equivalente a 240000.0 mm\n"
          ]
        }
      ]
    },
    {
      "cell_type": "code",
      "source": [
        "#Questao 15\n",
        "hora = int(input(\"Digite as horas trabalhadas: \"))\n",
        "valor_hora = float(input(\"Digite seu valor por hora: \"))\n",
        "salario = hora * valor_hora\n",
        "\n",
        "print(f\"Seu salário é: R${salario}\")"
      ],
      "metadata": {
        "colab": {
          "base_uri": "https://localhost:8080/"
        },
        "id": "da364eSQRf7-",
        "outputId": "297a2c39-eb93-4d82-d5e1-d4ee064c64aa"
      },
      "execution_count": 23,
      "outputs": [
        {
          "output_type": "stream",
          "name": "stdout",
          "text": [
            "Digite as horas trabalhadas: 160\n",
            "Digite seu valor por hora: 20\n",
            "Seu salário é: R$3200.0\n"
          ]
        }
      ]
    },
    {
      "cell_type": "code",
      "source": [
        "#Questao16\n",
        "numero = float(input(\"Informe um número: \"))\n",
        "\n",
        "dobro = numero * 2\n",
        "triplo = numero * 3\n",
        "raiz_quadrada = numero ** 0.5\n",
        "\n",
        "print(f\"O dobro de {numero} é: {dobro}\")\n",
        "print(f\"O triplo de {numero} é: {triplo}\")\n",
        "print(f\"A raiz quadrada de {numero} é: {raiz_quadrada}\")"
      ],
      "metadata": {
        "colab": {
          "base_uri": "https://localhost:8080/"
        },
        "id": "WVNOyVGdTMx8",
        "outputId": "cfd43055-cd5e-4872-db11-7d61a833e6d3"
      },
      "execution_count": 31,
      "outputs": [
        {
          "output_type": "stream",
          "name": "stdout",
          "text": [
            "Informe um número: 16\n",
            "O dobro de 16.0 é: 32.0\n",
            "O triplo de 16.0 é: 48.0\n",
            "A raiz quadrada de 16.0 é: 4.0\n"
          ]
        }
      ]
    },
    {
      "cell_type": "code",
      "source": [
        "#Questao17\n",
        "\n",
        "deposito_bancario = float(input(\"Digite o valor para depósito: \"))\n",
        "juros = float(input(\"Digite o valor de juros anual: \"))"
      ],
      "metadata": {
        "id": "ophNKBvtU0yL"
      },
      "execution_count": null,
      "outputs": []
    }
  ]
}