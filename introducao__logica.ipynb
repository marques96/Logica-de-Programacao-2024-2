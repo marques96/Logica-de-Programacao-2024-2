{
  "nbformat": 4,
  "nbformat_minor": 0,
  "metadata": {
    "colab": {
      "provenance": [],
      "authorship_tag": "ABX9TyNo2yVNFyaiUc4wdRe1YDb3",
      "include_colab_link": true
    },
    "kernelspec": {
      "name": "python3",
      "display_name": "Python 3"
    },
    "language_info": {
      "name": "python"
    }
  },
  "cells": [
    {
      "cell_type": "markdown",
      "metadata": {
        "id": "view-in-github",
        "colab_type": "text"
      },
      "source": [
        "<a href=\"https://colab.research.google.com/github/marques96/Logica-de-Programacao-2024-2/blob/main/introducao__logica.ipynb\" target=\"_parent\"><img src=\"https://colab.research.google.com/assets/colab-badge.svg\" alt=\"Open In Colab\"/></a>"
      ]
    },
    {
      "cell_type": "code",
      "execution_count": null,
      "metadata": {
        "colab": {
          "base_uri": "https://localhost:8080/"
        },
        "id": "oMfrbNXQk2RI",
        "outputId": "39a71c58-4415-4e9b-ebb1-09cc01e4e6c6"
      },
      "outputs": [
        {
          "output_type": "stream",
          "name": "stdout",
          "text": [
            "O nome é: Matheus, sua idade é 25, sua altura é 1.72\n"
          ]
        }
      ],
      "source": [
        "nome = \"Matheus\"\n",
        "idade = 25\n",
        "altura = 1.72\n",
        "\n",
        "print(f\"O nome é: {nome}, sua idade é {idade}, sua altura é {altura}\")"
      ]
    },
    {
      "cell_type": "code",
      "source": [
        "print(type(idade)) #Exibe a class 'int'\n",
        "print(type(nome))\n",
        "print(type(altura))"
      ],
      "metadata": {
        "colab": {
          "base_uri": "https://localhost:8080/"
        },
        "id": "iHUd3u8zp8-2",
        "outputId": "8a5ee64b-8af1-4cb7-de57-1203057518fa"
      },
      "execution_count": null,
      "outputs": [
        {
          "output_type": "stream",
          "name": "stdout",
          "text": [
            "<class 'int'>\n",
            "<class 'str'>\n",
            "<class 'float'>\n"
          ]
        }
      ]
    },
    {
      "cell_type": "code",
      "source": [
        "x = int(\"42\")\n",
        "y = float(\"3.14\")\n",
        "z = str(42)\n",
        "print(x, y, z)"
      ],
      "metadata": {
        "colab": {
          "base_uri": "https://localhost:8080/"
        },
        "id": "Inb0ZVovnNxJ",
        "outputId": "8bda0149-74c8-499d-f20e-3997255dfa20"
      },
      "execution_count": null,
      "outputs": [
        {
          "output_type": "stream",
          "name": "stdout",
          "text": [
            "42 3.14 42\n"
          ]
        }
      ]
    },
    {
      "cell_type": "code",
      "source": [
        "nome = input(\"Digite seu nome: \")\n",
        "idade = int(input(\"Digite sua idade: \"))\n",
        "print(f\"Olá, {nome}! Você tem {idade} anos.\")"
      ],
      "metadata": {
        "colab": {
          "base_uri": "https://localhost:8080/"
        },
        "id": "m3AdAJmbsVQl",
        "outputId": "5643d8f8-3b96-4b10-9bf5-d97f67b20a3f"
      },
      "execution_count": null,
      "outputs": [
        {
          "output_type": "stream",
          "name": "stdout",
          "text": [
            "Digite seu nome: Matheus\n",
            "Digite sua idade: 27\n",
            "Olá, Matheus! Você tem 27 anos.\n"
          ]
        }
      ]
    },
    {
      "cell_type": "code",
      "source": [
        "resultado1 = 10 + 2 * 3 #Saída: 16 #Multiplicação em primeiro\n",
        "resultado2 = (10 + 2) * 3 #Saída 36 (parênteses alteram a ordem)\n",
        "print(resultado1)\n",
        "print(resultado2)"
      ],
      "metadata": {
        "colab": {
          "base_uri": "https://localhost:8080/"
        },
        "id": "Kqcorknu0CpQ",
        "outputId": "6778f4c3-7fb9-43c8-f976-76e87e34b2b2"
      },
      "execution_count": null,
      "outputs": [
        {
          "output_type": "stream",
          "name": "stdout",
          "text": [
            "16\n",
            "36\n"
          ]
        }
      ]
    },
    {
      "cell_type": "code",
      "source": [
        "a = 10\n",
        "b = 0\n",
        "resultado = a / b #Gera um erro ZeroDivisionError"
      ],
      "metadata": {
        "colab": {
          "base_uri": "https://localhost:8080/",
          "height": 176
        },
        "id": "zj1ldZkg0cMo",
        "outputId": "de864257-cccf-46e2-b7fd-87ab4f588eef"
      },
      "execution_count": null,
      "outputs": [
        {
          "output_type": "error",
          "ename": "ZeroDivisionError",
          "evalue": "division by zero",
          "traceback": [
            "\u001b[0;31m---------------------------------------------------------------------------\u001b[0m",
            "\u001b[0;31mZeroDivisionError\u001b[0m                         Traceback (most recent call last)",
            "\u001b[0;32m<ipython-input-17-b7a87dac12dc>\u001b[0m in \u001b[0;36m<cell line: 3>\u001b[0;34m()\u001b[0m\n\u001b[1;32m      1\u001b[0m \u001b[0ma\u001b[0m \u001b[0;34m=\u001b[0m \u001b[0;36m10\u001b[0m\u001b[0;34m\u001b[0m\u001b[0;34m\u001b[0m\u001b[0m\n\u001b[1;32m      2\u001b[0m \u001b[0mb\u001b[0m \u001b[0;34m=\u001b[0m \u001b[0;36m0\u001b[0m\u001b[0;34m\u001b[0m\u001b[0;34m\u001b[0m\u001b[0m\n\u001b[0;32m----> 3\u001b[0;31m \u001b[0mresultado\u001b[0m \u001b[0;34m=\u001b[0m \u001b[0ma\u001b[0m \u001b[0;34m/\u001b[0m \u001b[0mb\u001b[0m \u001b[0;31m#Gera um erro ZeroDivisionError\u001b[0m\u001b[0;34m\u001b[0m\u001b[0;34m\u001b[0m\u001b[0m\n\u001b[0m",
            "\u001b[0;31mZeroDivisionError\u001b[0m: division by zero"
          ]
        }
      ]
    },
    {
      "cell_type": "code",
      "source": [
        "idade = int(input(\"Digite sua idade: \"))\n",
        "meses = idade * 12\n",
        "print(f\"Você tem {meses} meses\")"
      ],
      "metadata": {
        "colab": {
          "base_uri": "https://localhost:8080/"
        },
        "id": "U_yXwFww0qIm",
        "outputId": "4d6e4382-70a4-41c2-d86c-69a1e53418de"
      },
      "execution_count": null,
      "outputs": [
        {
          "output_type": "stream",
          "name": "stdout",
          "text": [
            "Digite sua idade: 27\n",
            "Você tem 324 meses\n"
          ]
        }
      ]
    },
    {
      "cell_type": "code",
      "source": [
        "numero1 = int(input(\"Digite o primeiro valor: \"))\n",
        "numero2 = int(input(\"Digite o segundo valor: \"))\n",
        "soma = numero1 + numero2\n",
        "subtracao = numero1 - numero2\n",
        "multiplicacao = numero1 * numero2\n",
        "divisao = numero1 / numero2\n",
        "\n",
        "print(f\" 2Soma: {soma}\\n Subtração: {subtracao}\\n Multiplicação: {multiplicacao}\\n Divisão: {divisao}\")"
      ],
      "metadata": {
        "colab": {
          "base_uri": "https://localhost:8080/"
        },
        "id": "jPjf7YsG2ULd",
        "outputId": "5fe86db8-0559-4cae-f9e8-42186319b1d1"
      },
      "execution_count": null,
      "outputs": [
        {
          "output_type": "stream",
          "name": "stdout",
          "text": [
            "Digite o primeiro valor: 25\n",
            "Digite o segundo valor: 5\n",
            " Soma: 30\n",
            " Subtração: 20\n",
            " Multiplicação: 125\n",
            " Divisão: 5.0\n"
          ]
        }
      ]
    },
    {
      "cell_type": "code",
      "source": [
        "produto = float(input(\"Digite o preco do produto: \"))\n",
        "desconto = float(input(\"Digite o percentual de desconto: \"))\n",
        "valor = produto * (1 - (desconto)/100)\n",
        "print(f\"O valor com desconto é: {valor}\")"
      ],
      "metadata": {
        "colab": {
          "base_uri": "https://localhost:8080/"
        },
        "id": "Y6Yj14z83VBt",
        "outputId": "e8857fb8-f240-49bb-f532-c31aebb17456"
      },
      "execution_count": null,
      "outputs": [
        {
          "output_type": "stream",
          "name": "stdout",
          "text": [
            "Digite o preco do produto: 5\n",
            "Digite o percentual de desconto: 5\n",
            "O valor com desconto é: 4.75\n"
          ]
        }
      ]
    },
    {
      "cell_type": "code",
      "source": [
        "base = int(input(\"Informe a base do triângulo: \"))\n",
        "altura = int(input(\"Informe a altura do triângulo: \"))\n",
        "area = (base * altura)/2\n",
        "print(f\"A área do triâgulo é: {area}\")"
      ],
      "metadata": {
        "colab": {
          "base_uri": "https://localhost:8080/"
        },
        "id": "lWKQHm5W4ikc",
        "outputId": "76444e25-80e9-415d-a26d-020cf514015d"
      },
      "execution_count": null,
      "outputs": [
        {
          "output_type": "stream",
          "name": "stdout",
          "text": [
            "Informe a base do triângulo: 4\n",
            "Informe a altura do triângulo: 8\n",
            "A área do triâgulo é: 16.0\n"
          ]
        }
      ]
    },
    {
      "cell_type": "code",
      "source": [
        "#Questao06\n",
        "nome = input(\"Digite seu nome: \")\n",
        "idade = int(input(\"Digite sua idade: \"))\n",
        "\n",
        "if(idade >= 18 ):\n",
        "    print(\"Maior de idade\")\n",
        "else:\n",
        "    print(\"Menor de idade\")\n"
      ],
      "metadata": {
        "colab": {
          "base_uri": "https://localhost:8080/"
        },
        "id": "QAQtTs3d5CMD",
        "outputId": "92786b28-09ca-4122-9df5-8f6493cadd10"
      },
      "execution_count": null,
      "outputs": [
        {
          "output_type": "stream",
          "name": "stdout",
          "text": [
            "Digite seu nome: Matheus\n",
            "Digite sua idade25\n",
            "Maior de idade\n"
          ]
        }
      ]
    },
    {
      "cell_type": "code",
      "source": [
        "#Questao07\n",
        "celsius = int(input(\"Informe a temperatura em Celsius: \"))\n",
        "F = (celsius * 9/5) + 32\n",
        "\n",
        "print(f\"A temperatura em Fahrenheit é: {F}\")"
      ],
      "metadata": {
        "colab": {
          "base_uri": "https://localhost:8080/"
        },
        "id": "iIgCkVsE6he7",
        "outputId": "4a32edb3-bce4-4d59-a2fc-4b6c9e2025a2"
      },
      "execution_count": null,
      "outputs": [
        {
          "output_type": "stream",
          "name": "stdout",
          "text": [
            "Informe a temperatura em Celsius36\n",
            "A temperatura em Fahrenheit é: 96.8\n"
          ]
        }
      ]
    },
    {
      "cell_type": "code",
      "source": [
        "#Questao08\n",
        "numero = int(input(\"Digite um número: \"))\n",
        "antecessor = numero - 1\n",
        "sucessor = numero + 1\n",
        "\n",
        "print(f\"Número: {numero}\")\n",
        "print(f\"Antecessor: {antecessor}\")\n",
        "print(f\"Sucessor: {sucessor}\")"
      ],
      "metadata": {
        "colab": {
          "base_uri": "https://localhost:8080/"
        },
        "id": "WPG_v5kc7Q0R",
        "outputId": "68ec417e-7b1f-411d-d02c-f64c31b2d8e6"
      },
      "execution_count": null,
      "outputs": [
        {
          "output_type": "stream",
          "name": "stdout",
          "text": [
            "Digite um número: 5\n",
            "Número: 5\n",
            "Antecessor: 4\n",
            "Sucessor: 6\n"
          ]
        }
      ]
    },
    {
      "cell_type": "code",
      "source": [
        "#Questao09\n",
        "frase = [\"Uva\"]\n",
        "quantidade = len(frase)\n",
        "print(quantidade)"
      ],
      "metadata": {
        "colab": {
          "base_uri": "https://localhost:8080/"
        },
        "id": "QWDMQirG77Hy",
        "outputId": "19b634a7-1133-4331-f9a0-e9ff0ba5b568"
      },
      "execution_count": null,
      "outputs": [
        {
          "output_type": "stream",
          "name": "stdout",
          "text": [
            "1\n"
          ]
        }
      ]
    }
  ]
}